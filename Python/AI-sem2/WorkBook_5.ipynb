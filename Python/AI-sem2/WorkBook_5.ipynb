{
 "cells": [
  {
   "cell_type": "markdown",
   "metadata": {},
   "source": [
    "Рабочая тетрадь №5 Мурдасов И.А./ ИМБО-01-24\n",
    "\n",
    "Создайте класс по работе с тригонометрическими функциями. В классе должны быть реализованы функции вычисления:\n",
    "-\tкосинуса;  \n",
    "-\tсинуса;  \n",
    "-\tтангенса;  \n",
    "-\tарксинуса;  \n",
    "-\tарккосинуса;  \n",
    "-\tарктангенса;  \n",
    "-\tперевода из градусов в радианы.\n"
   ]
  },
  {
   "cell_type": "code",
   "execution_count": 4,
   "metadata": {},
   "outputs": [
    {
     "name": "stdout",
     "output_type": "stream",
     "text": [
      "0.6435011087932844\n"
     ]
    }
   ],
   "source": [
    "import math\n",
    "\n",
    "class Triga:\n",
    "    def cos(self):\n",
    "        x = float(input(\"Введите значение x для вычисление косинуса: \"))\n",
    "        return math.cos(x)\n",
    "    \n",
    "    def sin(self):\n",
    "        x = float(input(\"Введите значение x для вычисление синуса: \"))\n",
    "        return math.sin(x)\n",
    "    \n",
    "    def tan(self):\n",
    "        x = float(input(\"Введите значение x для вычисление тангенса: \"))\n",
    "        return math.tan(x)\n",
    "\n",
    "    def arcsin(self):\n",
    "        x = float(input(\"Введите значение x для вычисление арксинуса: \"))\n",
    "        return math.asin(x)\n",
    "    \n",
    "    def arccos(self):\n",
    "        x = float(input(\"Введите значение x для вычисление арккосинуса: \"))\n",
    "        return math.acos(x)\n",
    "\n",
    "    def arctan(self):\n",
    "        x = float(input(\"Введите значение x для вычисление арктангенса: \"))\n",
    "        return math.atan(x)\n",
    "\n",
    "    def conveter_to_radians(self):\n",
    "        x = float(input(\"Введите значение x для перевода в радианы: \"))\n",
    "        return math.radians(x)\n",
    "\n",
    "new = Triga()\n",
    "print(new.arcsin())"
   ]
  },
  {
   "cell_type": "markdown",
   "metadata": {},
   "source": [
    "Задание\n",
    "\n",
    "Представьте дерево показанное на рисунке с использованием списка из списков. Выведите на печать корень дерева, а также его левое и правое поддеревья.\n",
    "\n",
    "![Дерево](C:\\Users\\Игорь\\Documents\\Main_Repository\\Python\\AI-sem2\\class_tree.png)\n"
   ]
  },
  {
   "cell_type": "code",
   "execution_count": 5,
   "metadata": {},
   "outputs": [
    {
     "name": "stdout",
     "output_type": "stream",
     "text": [
      "Корень дерева: a\n",
      "Левое поддерево: ['b', ['d', 'e']]\n",
      "Правое поддерево: ['c', ['f']]\n"
     ]
    }
   ],
   "source": [
    "tree = [\"a\", [[\"b\", [\"d\", \"e\"]], [\"c\", [\"f\"]]]]\n",
    "print(\"Корень дерева:\", tree[0])\n",
    "print(\"Левое поддерево:\", tree[1][0])\n",
    "print(\"Правое поддерево:\", tree[1][1])"
   ]
  },
  {
   "cell_type": "markdown",
   "metadata": {},
   "source": [
    "Задание\n",
    "\n",
    "Дан класс, описывающий бинарное дерево.\n",
    "\n",
    "```python\n",
    "class Tree:  \n",
    "   def __init__(self, data):  \n",
    "      self.left = None  \n",
    "      self.right = None  \n",
    "      self.data = data  \n",
    "   def PrintTree(self):  \n",
    "      print(self.data)  \n",
    "```\n",
    "Реализуйте в классе функцию для вставки нового элемента в дерево по следующим правилам:  \n",
    "\n",
    "•\tЛевое поддерево узла содержит только узлы со значениями меньше, чем значение в узле.  \n",
    "•\tПравое поддерево узла содержит только узлы со значениями меньше, чем значение в узле.  \n",
    "•\tКаждое из левого и правого поддеревьев также должно быть бинарным деревом поиска.  \n",
    "•\tНе должно быть повторяющихся узлов.  \n",
    "Метод вставки сравнивает значение узла с родительским узлом и решает куда доваить элемент (в левое или правое поддерево). Перепишите, метод PrintTree для печати полной версии дерева.\n"
   ]
  },
  {
   "cell_type": "code",
   "execution_count": null,
   "metadata": {},
   "outputs": [
    {
     "name": "stdout",
     "output_type": "stream",
     "text": [
      "None\n"
     ]
    }
   ],
   "source": [
    "class Tree:\n",
    "    def __init__(self, data):\n",
    "        self.left = None\n",
    "        self.right = None\n",
    "        self.data = data\n",
    "        self.check = True\n",
    "    def PrintTree(self, level=0, prefix=\"Root: \"):\n",
    "        #  Вывод дерева с отступами\n",
    "        print(\" \" * (level * 4) + prefix + str(self.data))\n",
    "        if self.left:\n",
    "            self.left.PrintTree(level + 1, \"L--- \")\n",
    "        if self.right:\n",
    "            self.right.PrintTree(level + 1, \"R--- \")\n",
    "    def add_value(self, newValue):\n",
    "        if self.data > newValue:\n",
    "            if self.left is None:\n",
    "                self.left = Tree(newValue)\n",
    "            elif self.right is None:\n",
    "                self.right = Tree(newValue)\n",
    "            else:\n",
    "                if self.check:\n",
    "                    self.left.add_value(newValue)\n",
    "                    self.check = False\n",
    "                else:\n",
    "                    self.right.add_value(newValue)\n",
    "                    self.check = True\n",
    "\n",
    "test = Tree(25)\n",
    "test.add_value(20)\n",
    "test.add_value(23)\n",
    "test.add_value(18)\n",
    "test.add_value(16)\n",
    "test.add_value(13)\n",
    "test.add_value(12)\n",
    "#test.add_value(11)\n",
    "print(test.PrintTree())"
   ]
  }
 ],
 "metadata": {
  "kernelspec": {
   "display_name": "Python 3",
   "language": "python",
   "name": "python3"
  },
  "language_info": {
   "codemirror_mode": {
    "name": "ipython",
    "version": 3
   },
   "file_extension": ".py",
   "mimetype": "text/x-python",
   "name": "python",
   "nbconvert_exporter": "python",
   "pygments_lexer": "ipython3",
   "version": "3.13.1"
  }
 },
 "nbformat": 4,
 "nbformat_minor": 2
}
